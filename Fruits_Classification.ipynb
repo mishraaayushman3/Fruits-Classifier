{
  "nbformat": 4,
  "nbformat_minor": 0,
  "metadata": {
    "colab": {
      "name": "Fruits Classification",
      "version": "0.3.2",
      "provenance": [],
      "collapsed_sections": [],
      "include_colab_link": true
    },
    "kernelspec": {
      "name": "python3",
      "display_name": "Python 3"
    }
  },
  "cells": [
    {
      "cell_type": "markdown",
      "metadata": {
        "id": "view-in-github",
        "colab_type": "text"
      },
      "source": [
        "<a href=\"https://colab.research.google.com/github/mishraaayushman3/Fruits-Classifier/blob/master/Fruits_Classification.ipynb\" target=\"_parent\"><img src=\"https://colab.research.google.com/assets/colab-badge.svg\" alt=\"Open In Colab\"/></a>"
      ]
    },
    {
      "cell_type": "code",
      "metadata": {
        "id": "SNWBQQXjuuqM",
        "colab_type": "code",
        "colab": {}
      },
      "source": [
        "import pandas as pd\n",
        "import numpy as np\n",
        "import cv2\n",
        "import os"
      ],
      "execution_count": 0,
      "outputs": []
    },
    {
      "cell_type": "code",
      "metadata": {
        "id": "Cij0jX97yXPe",
        "colab_type": "code",
        "outputId": "bf717eb1-107c-4d97-9b14-149f6e4df89d",
        "colab": {
          "base_uri": "https://localhost:8080/",
          "height": 221
        }
      },
      "source": [
        "!pip install kaggle\n",
        "!mkdir -p ~/.kaggle"
      ],
      "execution_count": 0,
      "outputs": [
        {
          "output_type": "stream",
          "text": [
            "Requirement already satisfied: kaggle in /usr/local/lib/python3.6/dist-packages (1.5.4)\n",
            "Requirement already satisfied: six>=1.10 in /usr/local/lib/python3.6/dist-packages (from kaggle) (1.12.0)\n",
            "Requirement already satisfied: urllib3<1.25,>=1.21.1 in /usr/local/lib/python3.6/dist-packages (from kaggle) (1.24.3)\n",
            "Requirement already satisfied: python-dateutil in /usr/local/lib/python3.6/dist-packages (from kaggle) (2.5.3)\n",
            "Requirement already satisfied: requests in /usr/local/lib/python3.6/dist-packages (from kaggle) (2.21.0)\n",
            "Requirement already satisfied: python-slugify in /usr/local/lib/python3.6/dist-packages (from kaggle) (3.0.2)\n",
            "Requirement already satisfied: tqdm in /usr/local/lib/python3.6/dist-packages (from kaggle) (4.28.1)\n",
            "Requirement already satisfied: certifi in /usr/local/lib/python3.6/dist-packages (from kaggle) (2019.6.16)\n",
            "Requirement already satisfied: chardet<3.1.0,>=3.0.2 in /usr/local/lib/python3.6/dist-packages (from requests->kaggle) (3.0.4)\n",
            "Requirement already satisfied: idna<2.9,>=2.5 in /usr/local/lib/python3.6/dist-packages (from requests->kaggle) (2.8)\n",
            "Requirement already satisfied: text-unidecode==1.2 in /usr/local/lib/python3.6/dist-packages (from python-slugify->kaggle) (1.2)\n"
          ],
          "name": "stdout"
        }
      ]
    },
    {
      "cell_type": "code",
      "metadata": {
        "id": "yXrgCi2yyhzg",
        "colab_type": "code",
        "colab": {}
      },
      "source": [
        "!cp kaggle.json ~/.kaggle/"
      ],
      "execution_count": 0,
      "outputs": []
    },
    {
      "cell_type": "code",
      "metadata": {
        "id": "EwpniIIny5t5",
        "colab_type": "code",
        "outputId": "80e7c1fa-b2f7-4ad6-edac-8c239661355f",
        "colab": {
          "base_uri": "https://localhost:8080/",
          "height": 104
        }
      },
      "source": [
        "!kaggle datasets download -d moltean/fruits"
      ],
      "execution_count": 0,
      "outputs": [
        {
          "output_type": "stream",
          "text": [
            "Warning: Your Kaggle API key is readable by other users on this system! To fix this, you can run 'chmod 600 /root/.kaggle/kaggle.json'\n",
            "Downloading fruits.zip to /content\n",
            "100% 706M/709M [00:08<00:00, 34.7MB/s]\n",
            "100% 709M/709M [00:09<00:00, 82.4MB/s]\n"
          ],
          "name": "stdout"
        }
      ]
    },
    {
      "cell_type": "code",
      "metadata": {
        "id": "rCejTJWq1VVR",
        "colab_type": "code",
        "colab": {}
      },
      "source": [
        "!unzip fruits.zip"
      ],
      "execution_count": 0,
      "outputs": []
    },
    {
      "cell_type": "code",
      "metadata": {
        "id": "-2Pahb1rtpIW",
        "colab_type": "code",
        "colab": {}
      },
      "source": [
        "directory1 = \"fruits-360/Training/\"\n",
        "classes=[\"Apple Golden 1\",\"Avocado\",\"Banana\",\"Cherry 1\",\"Cocos\",\"Kiwi\",\"Lemon\",\"Mango\",\"Orange\"]\n",
        "train=[]\n",
        "img_size=100\n",
        "for fruit in classes:\n",
        "    path = os.path.join(directory1,fruit)\n",
        "    class_num = classes.index(fruit)\n",
        "    for img in os.listdir(path):\n",
        "        img_array = cv2.imread(os.path.join(path,img),cv2.IMREAD_GRAYSCALE)\n",
        "        img_array = cv2.resize(img_array,(img_size,img_size))\n",
        "        train.append([img_array,class_num])"
      ],
      "execution_count": 0,
      "outputs": []
    },
    {
      "cell_type": "code",
      "metadata": {
        "id": "PC523KLC6-L9",
        "colab_type": "code",
        "colab": {}
      },
      "source": [
        "directory2 = \"fruits-360/Test/\"\n",
        "classes=[\"Apple Golden 1\",\"Avocado\",\"Banana\",\"Cherry 1\",\"Cocos\",\"Kiwi\",\"Lemon\",\"Mango\",\"Orange\"]\n",
        "test=[]\n",
        "img_size=100\n",
        "for fruit in classes:\n",
        "    path = os.path.join(directory2,fruit)\n",
        "    class_num = classes.index(fruit)\n",
        "    for img in os.listdir(path):\n",
        "        img_array = cv2.imread(os.path.join(path,img),cv2.IMREAD_GRAYSCALE)\n",
        "        img_array = cv2.resize(img_array,(img_size,img_size))\n",
        "        test.append([img_array,class_num])"
      ],
      "execution_count": 0,
      "outputs": []
    },
    {
      "cell_type": "code",
      "metadata": {
        "id": "wCO3M3Se7Tcg",
        "colab_type": "code",
        "colab": {}
      },
      "source": [
        "import random\n",
        "\n",
        "#training data\n",
        "random.shuffle(train)\n",
        "\n",
        "X_train=[]\n",
        "Y_train=[]\n",
        "for features,label in train:\n",
        "    X_train.append(features)\n",
        "    Y_train.append(label)\n",
        "X_train = np.array(X_train)\n",
        "\n",
        "#test data\n",
        "random.shuffle(test)\n",
        "\n",
        "X_test=[]\n",
        "Y_test=[]\n",
        "for features,label in test:\n",
        "    X_test.append(features)\n",
        "    Y_test.append(label)\n",
        "X_test=np.array(X_test) "
      ],
      "execution_count": 0,
      "outputs": []
    },
    {
      "cell_type": "code",
      "metadata": {
        "id": "xOLHJKGIU7Tq",
        "colab_type": "code",
        "outputId": "c3b49ecd-6a31-4f26-f0a5-abf7e194421a",
        "colab": {
          "base_uri": "https://localhost:8080/",
          "height": 33
        }
      },
      "source": [
        "X_train.shape"
      ],
      "execution_count": 0,
      "outputs": [
        {
          "output_type": "execute_result",
          "data": {
            "text/plain": [
              "(4318, 100, 100)"
            ]
          },
          "metadata": {
            "tags": []
          },
          "execution_count": 9
        }
      ]
    },
    {
      "cell_type": "code",
      "metadata": {
        "id": "XnoD6_pl8Kvl",
        "colab_type": "code",
        "outputId": "88565b97-2db2-436a-c184-b9de86747179",
        "colab": {
          "base_uri": "https://localhost:8080/",
          "height": 50
        }
      },
      "source": [
        "X_train=X_train.reshape(-1,img_size,img_size,1)\n",
        "X_train=X_train/255\n",
        "X_test=X_test.reshape(-1,img_size,img_size,1)\n",
        "X_test=X_test/255\n",
        "print(\"shape of X_train= \",X_train.shape)\n",
        "print(\"shape of X_test=  \",X_test.shape)"
      ],
      "execution_count": 0,
      "outputs": [
        {
          "output_type": "stream",
          "text": [
            "shape of X_train=  (4318, 100, 100, 1)\n",
            "shape of X_test=   (1449, 100, 100, 1)\n"
          ],
          "name": "stdout"
        }
      ]
    },
    {
      "cell_type": "code",
      "metadata": {
        "id": "Itpo2ct-B_eN",
        "colab_type": "code",
        "outputId": "985a87e1-76a7-4dd1-e668-d459488c30b0",
        "colab": {
          "base_uri": "https://localhost:8080/",
          "height": 33
        }
      },
      "source": [
        "from keras.utils import to_categorical\n",
        "Y_train=to_categorical(Y_train,num_classes=9)\n",
        "Y_test=to_categorical(Y_test,num_classes=9)"
      ],
      "execution_count": 0,
      "outputs": [
        {
          "output_type": "stream",
          "text": [
            "Using TensorFlow backend.\n"
          ],
          "name": "stderr"
        }
      ]
    },
    {
      "cell_type": "code",
      "metadata": {
        "id": "b0OCznLZCUXK",
        "colab_type": "code",
        "colab": {}
      },
      "source": [
        "from keras.models import Sequential\n",
        "from keras.layers import Dense,Dropout,Flatten,Conv2D,MaxPool2D"
      ],
      "execution_count": 0,
      "outputs": []
    },
    {
      "cell_type": "code",
      "metadata": {
        "id": "ww-KQsckCjUG",
        "colab_type": "code",
        "outputId": "e784cbe7-815d-4a82-ce6a-a046722e3f7b",
        "colab": {
          "base_uri": "https://localhost:8080/",
          "height": 271
        }
      },
      "source": [
        "model=Sequential()\n",
        "model.add(Conv2D(filters=8,kernel_size=(5,5),padding=\"Same\",activation=\"relu\",input_shape=(100,100,1)))\n",
        "model.add(MaxPool2D(pool_size=(2,2)))\n",
        "model.add(Dropout(0.25))\n",
        "\n",
        "model.add(Conv2D(filters=16,kernel_size=(4,4),padding=\"Same\",activation=\"relu\"))\n",
        "model.add(MaxPool2D(pool_size=(2,2),strides=(2,2)))\n",
        "model.add(Dropout(0.25))\n",
        "\n",
        "model.add(Conv2D(filters=32,kernel_size=(4,4),padding=\"Same\",activation=\"relu\"))\n",
        "model.add(MaxPool2D(pool_size=(2,2),strides=(2,2)))\n",
        "model.add(Dropout(0.25))\n",
        "model.add(Flatten())\n",
        "model.add(Dense(512,activation=\"relu\"))\n",
        "model.add(Dropout(0.5))\n",
        "model.add(Dense(9,activation=\"softmax\"))"
      ],
      "execution_count": 0,
      "outputs": [
        {
          "output_type": "stream",
          "text": [
            "WARNING: Logging before flag parsing goes to stderr.\n",
            "W0728 11:57:56.583379 140160039729024 deprecation_wrapper.py:119] From /usr/local/lib/python3.6/dist-packages/keras/backend/tensorflow_backend.py:74: The name tf.get_default_graph is deprecated. Please use tf.compat.v1.get_default_graph instead.\n",
            "\n",
            "W0728 11:57:56.631768 140160039729024 deprecation_wrapper.py:119] From /usr/local/lib/python3.6/dist-packages/keras/backend/tensorflow_backend.py:517: The name tf.placeholder is deprecated. Please use tf.compat.v1.placeholder instead.\n",
            "\n",
            "W0728 11:57:56.640876 140160039729024 deprecation_wrapper.py:119] From /usr/local/lib/python3.6/dist-packages/keras/backend/tensorflow_backend.py:4138: The name tf.random_uniform is deprecated. Please use tf.random.uniform instead.\n",
            "\n",
            "W0728 11:57:56.693285 140160039729024 deprecation_wrapper.py:119] From /usr/local/lib/python3.6/dist-packages/keras/backend/tensorflow_backend.py:3976: The name tf.nn.max_pool is deprecated. Please use tf.nn.max_pool2d instead.\n",
            "\n",
            "W0728 11:57:56.696682 140160039729024 deprecation_wrapper.py:119] From /usr/local/lib/python3.6/dist-packages/keras/backend/tensorflow_backend.py:133: The name tf.placeholder_with_default is deprecated. Please use tf.compat.v1.placeholder_with_default instead.\n",
            "\n",
            "W0728 11:57:56.709181 140160039729024 deprecation.py:506] From /usr/local/lib/python3.6/dist-packages/keras/backend/tensorflow_backend.py:3445: calling dropout (from tensorflow.python.ops.nn_ops) with keep_prob is deprecated and will be removed in a future version.\n",
            "Instructions for updating:\n",
            "Please use `rate` instead of `keep_prob`. Rate should be set to `rate = 1 - keep_prob`.\n"
          ],
          "name": "stderr"
        }
      ]
    },
    {
      "cell_type": "code",
      "metadata": {
        "id": "E4zxRHS8Dkou",
        "colab_type": "code",
        "outputId": "2d23a2f4-8bba-4534-b8fa-6f708a7841cc",
        "colab": {
          "base_uri": "https://localhost:8080/",
          "height": 104
        }
      },
      "source": [
        "model.compile(optimizer = 'adam',loss = \"categorical_crossentropy\",metrics = [\"accuracy\"])"
      ],
      "execution_count": 0,
      "outputs": [
        {
          "output_type": "stream",
          "text": [
            "W0728 11:57:59.930432 140160039729024 deprecation_wrapper.py:119] From /usr/local/lib/python3.6/dist-packages/keras/optimizers.py:790: The name tf.train.Optimizer is deprecated. Please use tf.compat.v1.train.Optimizer instead.\n",
            "\n",
            "W0728 11:57:59.968991 140160039729024 deprecation_wrapper.py:119] From /usr/local/lib/python3.6/dist-packages/keras/backend/tensorflow_backend.py:3295: The name tf.log is deprecated. Please use tf.math.log instead.\n",
            "\n"
          ],
          "name": "stderr"
        }
      ]
    },
    {
      "cell_type": "code",
      "metadata": {
        "id": "hV0Qx9ZiEho_",
        "colab_type": "code",
        "outputId": "fccb436f-b681-4a92-c917-6f7dc65b775b",
        "colab": {
          "base_uri": "https://localhost:8080/",
          "height": 288
        }
      },
      "source": [
        "model.fit(X_train,Y_train,batch_size = 36,epochs = 5,validation_data = (X_test,Y_test))"
      ],
      "execution_count": 0,
      "outputs": [
        {
          "output_type": "stream",
          "text": [
            "W0728 11:58:11.656741 140160039729024 deprecation.py:323] From /usr/local/lib/python3.6/dist-packages/tensorflow/python/ops/math_grad.py:1250: add_dispatch_support.<locals>.wrapper (from tensorflow.python.ops.array_ops) is deprecated and will be removed in a future version.\n",
            "Instructions for updating:\n",
            "Use tf.where in 2.0, which has the same broadcast rule as np.where\n"
          ],
          "name": "stderr"
        },
        {
          "output_type": "stream",
          "text": [
            "Train on 4318 samples, validate on 1449 samples\n",
            "Epoch 1/5\n",
            "4318/4318 [==============================] - 44s 10ms/step - loss: 0.7853 - acc: 0.7135 - val_loss: 0.1938 - val_acc: 0.9441\n",
            "Epoch 2/5\n",
            "4318/4318 [==============================] - 42s 10ms/step - loss: 0.0748 - acc: 0.9736 - val_loss: 0.1617 - val_acc: 0.9400\n",
            "Epoch 3/5\n",
            "4318/4318 [==============================] - 42s 10ms/step - loss: 0.0360 - acc: 0.9880 - val_loss: 0.1003 - val_acc: 0.9689\n",
            "Epoch 4/5\n",
            "4318/4318 [==============================] - 42s 10ms/step - loss: 0.0356 - acc: 0.9882 - val_loss: 0.1149 - val_acc: 0.9517\n",
            "Epoch 5/5\n",
            "4318/4318 [==============================] - 42s 10ms/step - loss: 0.0253 - acc: 0.9914 - val_loss: 0.0885 - val_acc: 0.9517\n"
          ],
          "name": "stdout"
        },
        {
          "output_type": "execute_result",
          "data": {
            "text/plain": [
              "<keras.callbacks.History at 0x7f79498aeba8>"
            ]
          },
          "metadata": {
            "tags": []
          },
          "execution_count": 15
        }
      ]
    },
    {
      "cell_type": "code",
      "metadata": {
        "id": "bEjX2YlaGSKk",
        "colab_type": "code",
        "outputId": "90ff499e-7617-4e99-b109-c1b7eae49aed",
        "colab": {
          "base_uri": "https://localhost:8080/",
          "height": 33
        }
      },
      "source": [
        "prediction = model.predict_classes(X_test)\n",
        "print(prediction)"
      ],
      "execution_count": 0,
      "outputs": [
        {
          "output_type": "stream",
          "text": [
            "[6 0 8 ... 0 2 7]\n"
          ],
          "name": "stdout"
        }
      ]
    },
    {
      "cell_type": "code",
      "metadata": {
        "id": "nRyooJ_dLVCy",
        "colab_type": "code",
        "colab": {}
      },
      "source": [
        "mp = {}\n",
        "mp[1] = \"\"\"Per large apple, the nutrient profile looks like this :\n",
        "\n",
        "Calories: 104 kcal\n",
        "Carbohydrate: 27.6 g\n",
        "Fiber: 2.8 g\n",
        "Sugar: 21.8 g\n",
        "Fat: 0.3 g\n",
        "Protein: 0.6 g\n",
        "Vitamin C: 14% RDA\n",
        "Potassium: 6% RDA\n",
        "Manganese: 4% RDA\n",
        "Vitamin B6: 4% RDA\n",
        "Vitamin B2: 4% RDA \"\"\"\n",
        "\n",
        "mp[2] = \"\"\"Here is the nutrition breakdown per standard avocado :\n",
        "\n",
        "Calories: 322 kcal\n",
        "Carbohydrate: 17.1 g\n",
        "Fiber: 13.5 g\n",
        "Sugar: 0.2 g\n",
        "Fat: 29.5 g\n",
        "Protein: 4 g\n",
        "Vitamin K: 53% RDA\n",
        "Folate: 41% RDA\n",
        "Vitamin C: 33% RDA\n",
        "Potassium: 28% RDA\n",
        "Vitamin B5: 28% RDA\"\"\"\n",
        "\n",
        "mp[3] = \"\"\"One medium banana has the following nutrient profile :\n",
        "\n",
        "Calories: 105 kcal\n",
        "Carbohydrate: 27.0 g\n",
        "Fiber: 3.1 g\n",
        "Sugar: 14.4 g\n",
        "Fat: 0.4 g\n",
        "Protein: 1.3 g\n",
        "Vitamin B6: 22% RDA\n",
        "Vitamin C: 17% RDA\n",
        "Manganese: 16% RDA\n",
        "Potassium: 12% RDA\n",
        "Magnesium: 8% RDA\"\"\"\n",
        "mp[4] = \"\"\"Per 100g, here is the nutritional value of sour cherries:\n",
        "\n",
        "Calories: 50 kcal\n",
        "Carbohydrate: 12.2 g\n",
        " Fiber: 1.6 g\n",
        "Sugar: 8.5 g\n",
        "Fat: 0.3 g\n",
        "Protein: 1.0 g\n",
        "Vitamin A: 26% RDA\n",
        "Vitamin C: 17% RDA\n",
        "Manganese: 6% RDA\n",
        "Potassium: 5% RDA\n",
        "Copper: 5% RDA\"\"\"\n",
        "mp[5] = \"\"\"Serving Size: 1 Side has the follwing nutritional composition:\n",
        "Calories: 70\n",
        "Fat: 0g\n",
        "Carbs: 18g\n",
        "Protein: 1g\"\"\"\n",
        "mp[6] = \"\"\"Here are the nutritional details for one small kiwi (26);\n",
        "\n",
        "Calories: 46.4 kcal\n",
        "Carbohydrate: 11.1 g\n",
        "Fiber: 2.3 g\n",
        "Sugar: 6.8 g\n",
        "Fat: 0.4 g\n",
        "Protein: 0.9 g\n",
        "Vitamin C: 117% RDA\n",
        "Vitamin K: 38% RDA\n",
        "Potassium: 7% RDA\n",
        "Vitamin E: 6% RDA\n",
        "Copper: 4% RDA\n",
        "\"\"\"\n",
        "mp[7] = \"\"\"The fruit offers the following vitamins and minerals per standard-sized fruit :\n",
        "\n",
        "Calories: 25.8 kcal\n",
        "Carbohydrate: 25.4 g\n",
        "Fiber: 1.6 g\n",
        "Sugar: 1.5 g\n",
        "Fat: 0.2 g\n",
        "Protein: 0.6 g\n",
        "Vitamin C: 51% RDA\n",
        "Calcium: 2% RDA\n",
        "Potassium: 2% RDA\n",
        "Vitamin B1: 2% RDA\n",
        "Vitamin B6: 2% RDA\"\"\"\n",
        "mp[8] = \"\"\"Per cup (165g) serving, mangoes provide :\n",
        "\n",
        "Calories: 107 kcal\n",
        "Carbohydrate: 28.1 g\n",
        "Fiber: 3.0 g\n",
        "Sugar: 24.4 g\n",
        "Fat: 0.4 g\n",
        "Protein: 0.8 g\n",
        "Vitamin C: 76% RDA\n",
        "Vitamin A: 25% RDA\n",
        "Vitamin B6: 11% RDA\n",
        "Copper: 9% RDA\n",
        "Vitamin E: 9% RDA\n",
        "\"\"\"\n",
        "mp[9] = \"\"\"One large orange supplies :\n",
        "\n",
        "Calories: 86.5 kcal\n",
        "Carbohydrate: 78.8 g\n",
        "Fiber: 4.4 g\n",
        "Sugar: 17.2 g\n",
        "Fat: 0.2 g\n",
        "Protein: 1.7 g\n",
        "Vitamin C: 163% RDA\n",
        "Folate: 14% RDA\n",
        "Vitamin B1: 11% RDA\n",
        "Potassium: 10% RDA\n",
        "Vitamin A: 8% RDA\n",
        "\"\"\"\n"
      ],
      "execution_count": 0,
      "outputs": []
    },
    {
      "cell_type": "code",
      "metadata": {
        "id": "DTyskVEzdycm",
        "colab_type": "code",
        "outputId": "114b58ac-ab02-444e-adc1-75dff7926569",
        "colab": {
          "base_uri": "https://localhost:8080/",
          "height": 234
        }
      },
      "source": [
        "img = cv2.imread(\"image.jpg\",cv2.IMREAD_GRAYSCALE)\n",
        "img = cv2.resize(img,(img_size,img_size))\n",
        "sample = [img]\n",
        "sample = np.array(sample)\n",
        "sample = np.reshape(sample,(-1,img_size,img_size,1))\n",
        "fruit = model.predict_classes(sample)\n",
        "\n",
        "print(mp[fruit[0]])"
      ],
      "execution_count": 0,
      "outputs": [
        {
          "output_type": "stream",
          "text": [
            "Per large apple, the nutrient profile looks like this :\n",
            "\n",
            "Calories: 104 kcal\n",
            "Carbohydrate: 27.6 g\n",
            "Fiber: 2.8 g\n",
            "Sugar: 21.8 g\n",
            "Fat: 0.3 g\n",
            "Protein: 0.6 g\n",
            "Vitamin C: 14% RDA\n",
            "Potassium: 6% RDA\n",
            "Manganese: 4% RDA\n",
            "Vitamin B6: 4% RDA\n",
            "Vitamin B2: 4% RDA \n"
          ],
          "name": "stdout"
        }
      ]
    },
    {
      "cell_type": "code",
      "metadata": {
        "id": "uPDgrDwHAHK8",
        "colab_type": "code",
        "colab": {}
      },
      "source": [
        ""
      ],
      "execution_count": 0,
      "outputs": []
    }
  ]
}